{
 "cells": [
  {
   "cell_type": "markdown",
   "metadata": {
    "id": "zjzLDxY94l4O"
   },
   "source": [
    "# Input Embedding "
   ]
  },
  {
   "cell_type": "markdown",
   "metadata": {
    "id": "04v4zksh4l66"
   },
   "source": [
    "단어를 컴퓨터가 이해할 수 있는 숫자나 행렬로 변환하는 과정. 한 단어당 n차원의 숫자 벡터로 변환되며 이 벡터는 초기에는 random(학습이 되지 않은 경우)한 수치를 가지나 Training이 진행될 수록 주어진 과제에 따라서 수치를 업데이트 한다."
   ]
  },
  {
   "cell_type": "markdown",
   "metadata": {
    "id": "XcB-atNOneHQ"
   },
   "source": [
    "1.Tokenizer를 통해 문장을 일정한 단위(Token)로 분할 -> 2.분할된 Token에 대해서 정수 인코딩(문장의 시작점과, 문장의 끝 점 padding이 추가됨) 및 \\[pad\\] 토큰을 사용하여 문장의 길이를 통일-> 3.Token을 n 차원의 숫자 벡터로 변환  "
   ]
  },
  {
   "cell_type": "code",
   "execution_count": null,
   "metadata": {
    "colab": {
     "base_uri": "https://localhost:8080/"
    },
    "id": "EcT2v9gkrV0P",
    "outputId": "15a4270f-e2b3-4f50-f78f-434a52931778"
   },
   "outputs": [
    {
     "name": "stdout",
     "output_type": "stream",
     "text": [
      "Looking in indexes: https://pypi.org/simple, https://us-python.pkg.dev/colab-wheels/public/simple/\n",
      "Collecting transformers\n",
      "  Downloading transformers-4.23.1-py3-none-any.whl (5.3 MB)\n",
      "\u001b[K     |████████████████████████████████| 5.3 MB 9.5 MB/s \n",
      "\u001b[?25hRequirement already satisfied: regex!=2019.12.17 in /usr/local/lib/python3.7/dist-packages (from transformers) (2022.6.2)\n",
      "Requirement already satisfied: requests in /usr/local/lib/python3.7/dist-packages (from transformers) (2.23.0)\n",
      "Requirement already satisfied: packaging>=20.0 in /usr/local/lib/python3.7/dist-packages (from transformers) (21.3)\n",
      "Collecting tokenizers!=0.11.3,<0.14,>=0.11.1\n",
      "  Downloading tokenizers-0.13.1-cp37-cp37m-manylinux_2_17_x86_64.manylinux2014_x86_64.whl (7.6 MB)\n",
      "\u001b[K     |████████████████████████████████| 7.6 MB 46.3 MB/s \n",
      "\u001b[?25hRequirement already satisfied: tqdm>=4.27 in /usr/local/lib/python3.7/dist-packages (from transformers) (4.64.1)\n",
      "Requirement already satisfied: pyyaml>=5.1 in /usr/local/lib/python3.7/dist-packages (from transformers) (6.0)\n",
      "Collecting huggingface-hub<1.0,>=0.10.0\n",
      "  Downloading huggingface_hub-0.10.1-py3-none-any.whl (163 kB)\n",
      "\u001b[K     |████████████████████████████████| 163 kB 40.2 MB/s \n",
      "\u001b[?25hRequirement already satisfied: numpy>=1.17 in /usr/local/lib/python3.7/dist-packages (from transformers) (1.21.6)\n",
      "Requirement already satisfied: importlib-metadata in /usr/local/lib/python3.7/dist-packages (from transformers) (4.13.0)\n",
      "Requirement already satisfied: filelock in /usr/local/lib/python3.7/dist-packages (from transformers) (3.8.0)\n",
      "Requirement already satisfied: typing-extensions>=3.7.4.3 in /usr/local/lib/python3.7/dist-packages (from huggingface-hub<1.0,>=0.10.0->transformers) (4.1.1)\n",
      "Requirement already satisfied: pyparsing!=3.0.5,>=2.0.2 in /usr/local/lib/python3.7/dist-packages (from packaging>=20.0->transformers) (3.0.9)\n",
      "Requirement already satisfied: zipp>=0.5 in /usr/local/lib/python3.7/dist-packages (from importlib-metadata->transformers) (3.9.0)\n",
      "Requirement already satisfied: chardet<4,>=3.0.2 in /usr/local/lib/python3.7/dist-packages (from requests->transformers) (3.0.4)\n",
      "Requirement already satisfied: idna<3,>=2.5 in /usr/local/lib/python3.7/dist-packages (from requests->transformers) (2.10)\n",
      "Requirement already satisfied: certifi>=2017.4.17 in /usr/local/lib/python3.7/dist-packages (from requests->transformers) (2022.9.24)\n",
      "Requirement already satisfied: urllib3!=1.25.0,!=1.25.1,<1.26,>=1.21.1 in /usr/local/lib/python3.7/dist-packages (from requests->transformers) (1.24.3)\n",
      "Installing collected packages: tokenizers, huggingface-hub, transformers\n",
      "Successfully installed huggingface-hub-0.10.1 tokenizers-0.13.1 transformers-4.23.1\n"
     ]
    }
   ],
   "source": [
    "pip install transformers"
   ]
  },
  {
   "cell_type": "code",
   "execution_count": null,
   "metadata": {
    "id": "RNIMHBjeWQp-"
   },
   "outputs": [],
   "source": [
    "import matplotlib.pyplot as plt\n",
    "import numpy as np\n",
    "import torch\n",
    "import torch.nn as nn\n",
    "import torch.nn.functional as F\n",
    "from transformers import AutoTokenizer"
   ]
  },
  {
   "cell_type": "code",
   "execution_count": null,
   "metadata": {
    "colab": {
     "base_uri": "https://localhost:8080/",
     "height": 113,
     "referenced_widgets": [
      "3fba46a0b1a54695b2a46fa52f12a60d",
      "ec272860426a4ec785f027ffee4cd348",
      "ed65e99b72ed4276bb85244ba30838c0",
      "e0621ad7b5684f70976b774f2b767a6c",
      "95a643c6eccc41db81f7ef4c5b75407a",
      "d56a1a005d6f4d5ba9b37b0526ea30c0",
      "1368903e11b14219b0c3004cc4453b3b",
      "87e60d7a95ba487b84e4c0a594aa1aaf",
      "546c54aab286453a8a9e493c4da52d9e",
      "a2353a110c8748c28c5ed67317afa6ef",
      "169bee9ea7cd4a258b8343802cc2b1b8",
      "417a1197cedc498a9b5ddbc174ca98c7",
      "b8fc82524dbf4751b4d8d76b3ea2ee18",
      "51d351b1563847978fc998549fafd297",
      "49a1c7e0f44b4e7fbab9201f091a7925",
      "3ce001c15fc44da9bcf4f7c9bbc7cb30",
      "a065d8c8ae0e4a888e5f15bcb6080849",
      "66fce8c81a094d79b841464597a2be5a",
      "c1b850a1687e4b88ac17a41817b64b3f",
      "e609fd3992d540a5ada876259cf8c615",
      "49d5f250417a409c9ff1adcca8fb59f6",
      "e64780dfe35d40918e47f8233b21dd35",
      "4d63cbe2d2094b96ae4b139598a6986e",
      "107f5ea48eef4cdea272f56bcdcc94b0",
      "be01bb4eab4342418cd8e323961a3d1a",
      "f9d135d3d8324815ac497c2c31665273",
      "deabbc4582b84ce087f0f1d81bf802a0",
      "8b2032456c004c41b83b4e803c176930",
      "c6f674c47cda40408a1302fa83c6959e",
      "17043b387a4b4da5869d1ad1ba0172c2",
      "a21e4c6d47ae4aa38c65f4ed401e019f",
      "dc5efc8e37fc488e93f11d7abd01ce79",
      "b3b7a7aef53344658a28cbdf238c2ec2"
     ]
    },
    "id": "1n0OCuy4unOa",
    "outputId": "46cad260-fdb7-4185-ff96-6ac29372dd8f"
   },
   "outputs": [
    {
     "data": {
      "application/vnd.jupyter.widget-view+json": {
       "model_id": "3fba46a0b1a54695b2a46fa52f12a60d",
       "version_major": 2,
       "version_minor": 0
      },
      "text/plain": [
       "Downloading:   0%|          | 0.00/49.0 [00:00<?, ?B/s]"
      ]
     },
     "metadata": {},
     "output_type": "display_data"
    },
    {
     "data": {
      "application/vnd.jupyter.widget-view+json": {
       "model_id": "417a1197cedc498a9b5ddbc174ca98c7",
       "version_major": 2,
       "version_minor": 0
      },
      "text/plain": [
       "Downloading:   0%|          | 0.00/619 [00:00<?, ?B/s]"
      ]
     },
     "metadata": {},
     "output_type": "display_data"
    },
    {
     "data": {
      "application/vnd.jupyter.widget-view+json": {
       "model_id": "4d63cbe2d2094b96ae4b139598a6986e",
       "version_major": 2,
       "version_minor": 0
      },
      "text/plain": [
       "Downloading:   0%|          | 0.00/250k [00:00<?, ?B/s]"
      ]
     },
     "metadata": {},
     "output_type": "display_data"
    }
   ],
   "source": [
    "# 한국어 tokenizer를 위해서 transformer의 kcbert tokenizer를 사용\n",
    "# tokeninzer 후 encoding을 위해서 load\n",
    "tokenizer = AutoTokenizer.from_pretrained(\"beomi/kcbert-base\")"
   ]
  },
  {
   "cell_type": "code",
   "execution_count": null,
   "metadata": {
    "colab": {
     "base_uri": "https://localhost:8080/"
    },
    "id": "Ptr9Do2hWQoP",
    "outputId": "2f3b26d4-584f-44fb-8052-f428cacef60d"
   },
   "outputs": [
    {
     "name": "stdout",
     "output_type": "stream",
     "text": [
      "['어제', '카페', '갔', '##었어', '거기', '사람', '많더라']\n",
      "['날이', '추', '##우니', '감기', '조심하세요']\n"
     ]
    }
   ],
   "source": [
    "print(tokenizer.tokenize('어제 카페 갔었어 거기 사람 많더라'))\n",
    "print(tokenizer.tokenize('날이 추우니 감기 조심하세요'))"
   ]
  },
  {
   "cell_type": "code",
   "execution_count": null,
   "metadata": {
    "colab": {
     "base_uri": "https://localhost:8080/"
    },
    "id": "Zgw4_9_tpy_e",
    "outputId": "e1388248-ea9a-4b0a-f035-dfbebb21044a"
   },
   "outputs": [
    {
     "name": "stdout",
     "output_type": "stream",
     "text": [
      "[('표창', 10000), ('하지마라', 10001), ('잘하고', 10002), ('##은데', 10003), ('##보다는', 10004), ('##도를', 10005), ('하긴', 10006), ('##보기', 10007), ('##들이나', 10008), ('됩니다', 10009), ('##만도', 10010), ('대해서', 10011), ('유럽', 10012), ('##상황', 10013), ('냄새', 10014), ('좋아하는', 10015), ('##때문', 10016), ('답이다', 10017), ('마세요', 10018), ('##놓은', 10019), ('그러나', 10020), ('뭔지', 10021), ('##레이', 10022), ('몰라', 10023), ('##되서', 10024), ('자신의', 10025), ('##렸다', 10026), ('살기', 10027), ('목사', 10028), ('##길래', 10029), ('이후', 10030), ('##겠어', 10031), ('##한다면', 10032), ('굳이', 10033), ('고마', 10034), ('##일뿐', 10035), ('##이지만', 10036), ('대한민국은', 10037), ('##러워', 10038), ('##지막', 10039), ('의견', 10040), ('국가가', 10041), ('##하셨', 10042), ('물고', 10043), ('통계', 10044), ('나와서', 10045), ('나오면', 10046), ('착각', 10047), ('답이', 10048), ('##바닥', 10049), ('##말을', 10050), ('##타령', 10051), ('##기관', 10052), ('힘을', 10053), ('가정', 10054), ('똑똑', 10055), ('이제와서', 10056), ('많네', 10057), ('단식', 10058), ('죄가', 10059), ('군사', 10060), ('달라', 10061), ('모양', 10062), ('##의를', 10063), ('##까운', 10064), ('문제는', 10065), ('일으', 10066), ('##쳐서', 10067), ('미국은', 10068), ('세상에', 10069), ('개념', 10070), ('발악', 10071), ('없습니다', 10072), ('##진짜', 10073), ('지구', 10074), ('남북', 10075), ('자한당이', 10076), ('이지', 10077), ('##쟁이', 10078), ('다녀', 10079), ('##때까지', 10080), ('어려운', 10081), ('일본을', 10082), ('손해', 10083), ('많은데', 10084), ('기독교', 10085), ('##누리', 10086), ('유니', 10087), ('추미애', 10088), ('또라이', 10089), ('마약', 10090), ('선생', 10091), ('취업', 10092), ('밝히', 10093), ('우린', 10094), ('##아버', 10095), ('이낙', 10096), ('##가를', 10097), ('변호사', 10098), ('말아먹', 10099)] 30000\n"
     ]
    }
   ],
   "source": [
    "# 단어 집합 확인 및 개수 확인\n",
    "print(sorted(tokenizer.vocab.items(), key=lambda x:x[1])[10000:10100], len(tokenizer.vocab), end = '\\n')"
   ]
  },
  {
   "cell_type": "code",
   "execution_count": null,
   "metadata": {
    "colab": {
     "base_uri": "https://localhost:8080/"
    },
    "id": "2tS_fqjkWQmO",
    "outputId": "56464355-228a-4b3a-d76b-454a8b03034b"
   },
   "outputs": [
    {
     "name": "stdout",
     "output_type": "stream",
     "text": [
      "[2, 9909, 14786, 212, 11320, 8788, 7978, 28026, 3]\n",
      "[2, 12283, 2933, 16626, 18468, 26874, 3]\n",
      "[tensor([    2,  9909, 14786,   212, 11320,  8788,  7978, 28026,     3]), tensor([    2, 12283,  2933, 16626, 18468, 26874,     3])]\n"
     ]
    }
   ],
   "source": [
    "inputs_encoded = []\n",
    "for raw in ['어제 카페 갔었어 거기 사람 많더라', '날이 추우니 감기 조심하세요']:\n",
    "  # 정수 인코딩\n",
    "  encoded = tokenizer.encode(raw)\n",
    "  print(encoded)\n",
    "  inputs_encoded.append(torch.tensor(encoded))\n",
    "print(inputs_encoded)"
   ]
  },
  {
   "cell_type": "code",
   "execution_count": null,
   "metadata": {
    "id": "6l_VQmwoWQkd"
   },
   "outputs": [],
   "source": [
    "# ['어제', '카페', '갔', '##었어', '거기', '사람', '많더라'] -> 7개 Token\n",
    "# ['날이', '추', '##우니', '감기', '조심하세요'] -> 5개 Token\n",
    "# 가장 긴 문장을 기준으로 그보다 짧은 문장 뒤에 [pad]토근 0을 넣어주는 과정, 길이를 맞추기 위해\n",
    "inputs_pad = torch.nn.utils.rnn.pad_sequence(inputs_encoded, batch_first=True, padding_value = 0)"
   ]
  },
  {
   "cell_type": "code",
   "execution_count": null,
   "metadata": {
    "colab": {
     "base_uri": "https://localhost:8080/"
    },
    "id": "ncN4J1rtWQiU",
    "outputId": "a8a59757-d451-4077-ddeb-2c25aacbce1e"
   },
   "outputs": [
    {
     "name": "stdout",
     "output_type": "stream",
     "text": [
      "tensor([[    2,  9909, 14786,   212, 11320,  8788,  7978, 28026,     3],\n",
      "        [    2, 12283,  2933, 16626, 18468, 26874,     3,     0,     0]])\n"
     ]
    }
   ],
   "source": [
    "print(inputs_pad)"
   ]
  },
  {
   "cell_type": "code",
   "execution_count": null,
   "metadata": {
    "colab": {
     "base_uri": "https://localhost:8080/"
    },
    "id": "EB-hcPu_WQfT",
    "outputId": "e5de2e35-4d06-4b4a-837e-a7fa3e1b0df1"
   },
   "outputs": [
    {
     "name": "stdout",
     "output_type": "stream",
     "text": [
      "[CLS] 어제 카페 갔었어 거기 사람 많더라 [SEP]\n",
      "[CLS] 날이 추우니 감기 조심하세요 [SEP] [PAD] [PAD]\n"
     ]
    }
   ],
   "source": [
    "for encoded in inputs_pad:\n",
    "  print(tokenizer.decode(encoded))"
   ]
  },
  {
   "cell_type": "code",
   "execution_count": null,
   "metadata": {
    "id": "0OtZH3Qz2Myq"
   },
   "outputs": [],
   "source": [
    "#embedding \n",
    "n_vocab = tokenizer.vocab_size #30000 \n",
    "hidden_size = 512\n",
    "nn_emb = nn.Embedding(n_vocab, hidden_size)"
   ]
  },
  {
   "cell_type": "code",
   "execution_count": null,
   "metadata": {
    "colab": {
     "base_uri": "https://localhost:8080/"
    },
    "id": "JzB0-2W02Mty",
    "outputId": "7a20f127-3ea9-411f-d71d-489cc7dea7f3"
   },
   "outputs": [
    {
     "name": "stdout",
     "output_type": "stream",
     "text": [
      "tensor([[[ 0.2453,  0.1002, -0.4045,  ..., -0.2416, -1.7429, -0.5138],\n",
      "         [ 0.8651, -1.8991, -0.4288,  ...,  1.8089, -1.3038,  0.7046],\n",
      "         [-0.1603, -2.5976, -0.8234,  ...,  0.6745,  0.9004, -0.6700],\n",
      "         ...,\n",
      "         [-0.0120, -0.4920, -0.5984,  ..., -1.0441,  0.3192,  1.0632],\n",
      "         [-0.6287, -0.4934, -1.5713,  ...,  0.2915, -1.0795,  0.0879],\n",
      "         [-1.2418,  1.1460,  0.8505,  ..., -1.6559,  0.2539, -1.0672]],\n",
      "\n",
      "        [[ 0.2453,  0.1002, -0.4045,  ..., -0.2416, -1.7429, -0.5138],\n",
      "         [-0.7219, -0.2318, -0.3234,  ..., -1.4340, -1.3192, -0.4059],\n",
      "         [ 1.4136,  1.3537,  0.2043,  ...,  1.7810,  0.6985,  1.8714],\n",
      "         ...,\n",
      "         [-1.2418,  1.1460,  0.8505,  ..., -1.6559,  0.2539, -1.0672],\n",
      "         [-0.4819,  0.5667, -0.6906,  ..., -0.7728, -0.8745, -0.7138],\n",
      "         [-0.4819,  0.5667, -0.6906,  ..., -0.7728, -0.8745, -0.7138]]],\n",
      "       grad_fn=<EmbeddingBackward0>) torch.Size([2, 9, 512])\n"
     ]
    }
   ],
   "source": [
    "# 2문장, [pad]토큰이 포함된 9 토큰을, 512차원으로 임베딩\n",
    "embeded_inputs = nn_emb(inputs_pad)\n",
    "print(embeded_inputs, embeded_inputs.size())"
   ]
  },
  {
   "cell_type": "markdown",
   "metadata": {
    "id": "DH9eMhrZ4l9C"
   },
   "source": [
    "# Positional Encording"
   ]
  },
  {
   "cell_type": "markdown",
   "metadata": {
    "id": "UfR_Aqra94h7"
   },
   "source": [
    "![positional encording com.png](data:image/png;base64,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)"
   ]
  },
  {
   "cell_type": "markdown",
   "metadata": {
    "id": "eDYlmlYlvA5c"
   },
   "source": [
    "Positional Encording : RNN과 LSTM의 경우 데이터 입력을 순차적으로 받고 계산하기 때문에 연산 속도가 매우 느리다. </br>\n",
    "Transformer는 이를 개선하기 위해 입력된 문장을 한번에 병렬로 한번에 처리하는데,  **단어의 순서와 위치 정보가 포함되지 않는 문제가 발생**한다. </br> 이를 해결하기 위해 Sin, Cos 함수를 사용하게 된다."
   ]
  },
  {
   "cell_type": "markdown",
   "metadata": {
    "id": "id6e4BTS4l_L"
   },
   "source": [
    "1. 단어의 위치를 더해준다.\n",
    "- 단순히 단어의 위치를 더해주는 것은 문장이 길어질 수록 위치 값이 커져서 단어의 벡터 값보다 위치 값이 커지는 경우가 생겨 embedding 값이 왜곡될 가능성이 높다. \n",
    "2. (현재 위치/ 전체 길이를 더해준다)\n",
    "- 문장의 길이에 따라 같은 위치에서 같은 역할을 하는 단어의 위치 값이 달라지는 경우가 생긴다."
   ]
  },
  {
   "cell_type": "markdown",
   "metadata": {
    "id": "aTt3EVk1RgGU"
   },
   "source": [
    "![positional encording.PNG](data:image/png;base64,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)"
   ]
  },
  {
   "cell_type": "markdown",
   "metadata": {
    "id": "tsACnUXCRo3U"
   },
   "source": [
    "임베딩 차원의 위치가 짝수인 경우 sin함수를, 홀수인 경우는 cos 함수를 더한다.\n",
    "\n"
   ]
  },
  {
   "cell_type": "markdown",
   "metadata": {
    "id": "bu6MJEdm1qKd"
   },
   "source": [
    "ex) </br>\n",
    "position이 0인 경우 : </br>\n",
    "[sin(0/10000 ^ ((2 * 0)/512)), cos(sin(0/10000 ^ ((2 * 0)/512)), sin(0/10000 ^ ((2 * 1)/512)), cos(0/10000 ^ ((2 * 0)/512))....]\n",
    "\n",
    "position이 1인 경우 : </br>\n",
    "[sin(1/10000 ^ ((2 * 0)/512)), cos(sin(1/10000 ^ ((2 * 0)/512)), sin(1/10000 ^ ((2 * 1)/512)), cos(1/10000 ^ ((2 * 0)/512))....]\n",
    "\n",
    "\n"
   ]
  },
  {
   "cell_type": "code",
   "execution_count": null,
   "metadata": {
    "id": "x0NbEFbFSSPc"
   },
   "outputs": [],
   "source": [
    "# 필요 Library\n",
    "import numpy as np"
   ]
  },
  {
   "cell_type": "code",
   "execution_count": null,
   "metadata": {
    "id": "cibIcsXKRl1T"
   },
   "outputs": [],
   "source": [
    "def positional_encoding(n_seq, hiddin_size = 512):\n",
    "  def calculation(position, i):\n",
    "    return position / (10000 ** ((2*(i//2))/hiddin_size))\n",
    "  def postion_angle_vector(position):\n",
    "    return [calculation(position, i) for i in range(hiddin_size)]\n",
    "  \n",
    "  positional_encoding = np.array([postion_angle_vector(pos) for pos in range(n_seq)])\n",
    "  # 0부터 2개씩 건너뛰면서\n",
    "  positional_encoding[:, 0::2] = np.sin(positional_encoding[:, 0::2])\n",
    "  positional_encoding[:, 1::2] = np.cos(positional_encoding[:, 1::2])\n",
    "\n",
    "  return positional_encoding"
   ]
  },
  {
   "cell_type": "code",
   "execution_count": null,
   "metadata": {
    "colab": {
     "base_uri": "https://localhost:8080/"
    },
    "id": "NpONKkEfQ4F_",
    "outputId": "da8f9de8-90eb-4047-e8e2-9e8527b4c0d4"
   },
   "outputs": [
    {
     "name": "stdout",
     "output_type": "stream",
     "text": [
      "[[ 0.00000000e+00  1.00000000e+00  0.00000000e+00 ...  1.00000000e+00\n",
      "   0.00000000e+00  1.00000000e+00]\n",
      " [ 8.41470985e-01  5.40302306e-01  8.21856190e-01 ...  9.99999994e-01\n",
      "   1.03663293e-04  9.99999995e-01]\n",
      " [ 9.09297427e-01 -4.16146837e-01  9.36414739e-01 ...  9.99999977e-01\n",
      "   2.07326584e-04  9.99999979e-01]\n",
      " ...\n",
      " [-6.16040459e-01  7.87714512e-01  9.32827406e-01 ...  9.99909784e-01\n",
      "   1.29575490e-02  9.99916047e-01]\n",
      " [ 3.29990826e-01  9.43984139e-01  8.27561223e-01 ...  9.99908335e-01\n",
      "   1.30612035e-02  9.99914699e-01]\n",
      " [ 9.72630067e-01  2.32359102e-01  1.00875902e-02 ...  9.99906874e-01\n",
      "   1.31648579e-02  9.99913340e-01]] (128, 512)\n"
     ]
    }
   ],
   "source": [
    "# 토큰의 개수가 128개인 경우 (hiden_size는 논문에 의하면 512로 정해져 있다.)\n",
    "print(positional_encoding(128), positional_encoding(128).shape)"
   ]
  },
  {
   "cell_type": "code",
   "execution_count": null,
   "metadata": {
    "id": "z2KrqUkx4-5e"
   },
   "outputs": [],
   "source": [
    "# 문장의 개수 * 토큰 개수 만큼 position array를 만들어준다.\n",
    "position = torch.arange(inputs_pad.size(1)).expand(embeded_inputs.size(0), inputs_pad.size(1))"
   ]
  },
  {
   "cell_type": "code",
   "execution_count": null,
   "metadata": {
    "colab": {
     "base_uri": "https://localhost:8080/"
    },
    "id": "wQSGJDG_Je23",
    "outputId": "17c82173-960a-4898-ae2d-7c585f3d7d1b"
   },
   "outputs": [
    {
     "name": "stdout",
     "output_type": "stream",
     "text": [
      "tensor([[0, 1, 2, 3, 4, 5, 6, 7, 8],\n",
      "        [0, 1, 2, 3, 4, 5, 6, 7, 8]])\n"
     ]
    }
   ],
   "source": [
    "print(position)"
   ]
  },
  {
   "cell_type": "code",
   "execution_count": null,
   "metadata": {
    "id": "ZRr3CTEE5jQD"
   },
   "outputs": [],
   "source": [
    "pos_encoding = torch.FloatTensor(positional_encoding(128))\n",
    "pos_embedding = nn.Embedding.from_pretrained(pos_encoding, freeze = True)"
   ]
  },
  {
   "cell_type": "code",
   "execution_count": null,
   "metadata": {
    "colab": {
     "base_uri": "https://localhost:8080/"
    },
    "id": "_KWbddHH5kCW",
    "outputId": "70901110-b061-417f-f3b6-ebf4e23f1797"
   },
   "outputs": [
    {
     "name": "stdout",
     "output_type": "stream",
     "text": [
      "tensor([[[ 0.0000e+00,  1.0000e+00,  0.0000e+00,  ...,  1.0000e+00,\n",
      "           0.0000e+00,  1.0000e+00],\n",
      "         [ 8.4147e-01,  5.4030e-01,  8.2186e-01,  ...,  1.0000e+00,\n",
      "           1.0366e-04,  1.0000e+00],\n",
      "         [ 9.0930e-01, -4.1615e-01,  9.3641e-01,  ...,  1.0000e+00,\n",
      "           2.0733e-04,  1.0000e+00],\n",
      "         ...,\n",
      "         [-2.7942e-01,  9.6017e-01, -4.7522e-01,  ...,  1.0000e+00,\n",
      "           6.2198e-04,  1.0000e+00],\n",
      "         [ 6.5699e-01,  7.5390e-01,  4.5239e-01,  ...,  1.0000e+00,\n",
      "           7.2564e-04,  1.0000e+00],\n",
      "         [ 9.8936e-01, -1.4550e-01,  9.9067e-01,  ...,  1.0000e+00,\n",
      "           8.2931e-04,  1.0000e+00]],\n",
      "\n",
      "        [[ 0.0000e+00,  1.0000e+00,  0.0000e+00,  ...,  1.0000e+00,\n",
      "           0.0000e+00,  1.0000e+00],\n",
      "         [ 8.4147e-01,  5.4030e-01,  8.2186e-01,  ...,  1.0000e+00,\n",
      "           1.0366e-04,  1.0000e+00],\n",
      "         [ 9.0930e-01, -4.1615e-01,  9.3641e-01,  ...,  1.0000e+00,\n",
      "           2.0733e-04,  1.0000e+00],\n",
      "         ...,\n",
      "         [-2.7942e-01,  9.6017e-01, -4.7522e-01,  ...,  1.0000e+00,\n",
      "           6.2198e-04,  1.0000e+00],\n",
      "         [ 6.5699e-01,  7.5390e-01,  4.5239e-01,  ...,  1.0000e+00,\n",
      "           7.2564e-04,  1.0000e+00],\n",
      "         [ 9.8936e-01, -1.4550e-01,  9.9067e-01,  ...,  1.0000e+00,\n",
      "           8.2931e-04,  1.0000e+00]]]) torch.Size([2, 9, 512])\n"
     ]
    }
   ],
   "source": [
    "# 128 토큰의 position_encoding을 가지고 있는 문장에 맞춰 [2, 9, 512] 사이즈로 만드는 방법\n",
    "# [9, 512] sin, cos 함수를 이용한 위치 Positional Encoding 값이 각각 문장 개수 별로 들어가 있다.\n",
    "print(pos_embedding(position), pos_embedding(position).size())"
   ]
  },
  {
   "cell_type": "markdown",
   "metadata": {
    "id": "YqNnoW18-Av3"
   },
   "source": [
    "Input Embdding 후 Positional Encoding을 더해주는 과정 완료"
   ]
  },
  {
   "cell_type": "code",
   "execution_count": null,
   "metadata": {
    "id": "tTOZO-fS891s"
   },
   "outputs": [],
   "source": [
    "encode_input = embeded_inputs + pos_embedding(position)"
   ]
  },
  {
   "cell_type": "code",
   "execution_count": null,
   "metadata": {
    "colab": {
     "base_uri": "https://localhost:8080/"
    },
    "id": "LhPbCe8O9mya",
    "outputId": "ed3a510f-749c-42c3-888b-cfb49b568ed6"
   },
   "outputs": [
    {
     "name": "stdout",
     "output_type": "stream",
     "text": [
      "tensor([[[ 0.2453,  1.1002, -0.4045,  ...,  0.7584, -1.7429,  0.4862],\n",
      "         [ 1.7065, -1.3588,  0.3930,  ...,  2.8089, -1.3037,  1.7046],\n",
      "         [ 0.7490, -3.0138,  0.1131,  ...,  1.6745,  0.9006,  0.3300],\n",
      "         ...,\n",
      "         [-0.2914,  0.4682, -1.0736,  ..., -0.0441,  0.3199,  2.0632],\n",
      "         [ 0.0283,  0.2605, -1.1189,  ...,  1.2915, -1.0787,  1.0879],\n",
      "         [-0.2524,  1.0005,  1.8412,  ..., -0.6559,  0.2547, -0.0672]],\n",
      "\n",
      "        [[ 0.2453,  1.1002, -0.4045,  ...,  0.7584, -1.7429,  0.4862],\n",
      "         [ 0.1196,  0.3085,  0.4985,  ..., -0.4340, -1.3191,  0.5941],\n",
      "         [ 2.3229,  0.9375,  1.1407,  ...,  2.7810,  0.6987,  2.8714],\n",
      "         ...,\n",
      "         [-1.5212,  2.1062,  0.3753,  ..., -0.6559,  0.2545, -0.0672],\n",
      "         [ 0.1751,  1.3206, -0.2382,  ...,  0.2272, -0.8738,  0.2862],\n",
      "         [ 0.5075,  0.4212,  0.3001,  ...,  0.2272, -0.8737,  0.2862]]],\n",
      "       grad_fn=<AddBackward0>) torch.Size([2, 9, 512])\n"
     ]
    }
   ],
   "source": [
    "print(encode_input, encode_input.size())"
   ]
  },
  {
   "cell_type": "markdown",
   "metadata": {
    "id": "vpzbWGDtL7_a"
   },
   "source": [
    "# Positional Encoding Define"
   ]
  },
  {
   "cell_type": "code",
   "execution_count": null,
   "metadata": {
    "id": "ISUVK9qUBDdX"
   },
   "outputs": [],
   "source": [
    "# 해당 과정을 한번에 처리할 수 있는 함수\n",
    "def mk_encoder_input(input, n_seq = 128, hiddin_size = 512):\n",
    "  def encoding_input(input):\n",
    "    inputs_encoded = []\n",
    "    for raw in input:\n",
    "      encoded = tokenizer.encode(raw)\n",
    "      inputs_encoded.append(torch.tensor(encoded))\n",
    "    inputs_pad = torch.nn.utils.rnn.pad_sequence(inputs_encoded, batch_first=True, padding_value = 0)\n",
    "    return inputs_pad\n",
    "\n",
    "  def embedding_input(inputs_encoded):\n",
    "    n_vocab = tokenizer.vocab_size #30000 \n",
    "    hidden_size = 512\n",
    "    nn_emb = nn.Embedding(n_vocab, hidden_size)\n",
    "    embeded_inputs = nn_emb(inputs_pad)\n",
    "    \n",
    "    return embeded_inputs\n",
    "\n",
    "  #ex) position이 0일때, i : 0~512까지의 pos/(10000 ** (2i/d_model))을 계산해준다.\n",
    "  def calculation(position, i):\n",
    "    return position / (10000 ** ((2*(i//2))/hiddin_size))\n",
    "\n",
    "  def postion_angle_vector(position):\n",
    "      return [calculation(position, i) for i in range(hiddin_size)]\n",
    "\n",
    "  encoded = encoding_input(input)\n",
    "  embedded = embedding_input(encoded)\n",
    "\n",
    "  position = torch.arange(embedded.size(1)).expand(embedded.size(0), embedded.size(1))\n",
    "  positional_encoding = np.array([postion_angle_vector(pos) for pos in range(n_seq)])\n",
    "  positional_encoding[:, 0::2] = np.sin(positional_encoding[:, 0::2])\n",
    "  positional_encoding[:, 1::2] = np.cos(positional_encoding[:, 1::2])\n",
    "\n",
    "  pos_encoding = torch.FloatTensor(positional_encoding)\n",
    "  pos_embedding = nn.Embedding.from_pretrained(pos_encoding, freeze = True)\n",
    "  pos_enc = pos_embedding(position)\n",
    "\n",
    "  # inputs_encoded는 attention mask를 만들기 위해 사용된다.\n",
    "  return inputs_pad, embedded + pos_enc"
   ]
  },
  {
   "cell_type": "code",
   "execution_count": null,
   "metadata": {
    "colab": {
     "base_uri": "https://localhost:8080/"
    },
    "id": "iUkX6EmlJCZC",
    "outputId": "0444ee1e-e3b2-41f4-dd5e-45c6ee2c6027"
   },
   "outputs": [
    {
     "data": {
      "text/plain": [
       "(tensor([[    2,  9909, 14786,   212, 11320,  8788,  7978, 28026,     3],\n",
       "         [    2, 12283,  2933, 16626, 18468, 26874,     3,     0,     0]]),\n",
       " tensor([[[ 5.2249e-01,  2.4457e+00, -5.5455e-01,  ...,  3.1429e+00,\n",
       "            1.6904e+00,  1.0134e+00],\n",
       "          [-4.7217e-01,  3.8983e-01,  1.1183e+00,  ...,  3.1506e+00,\n",
       "            1.9815e-01,  1.6348e-01],\n",
       "          [-8.5531e-01, -3.2104e-01,  1.4364e+00,  ..., -9.4942e-01,\n",
       "           -1.1474e+00,  2.9921e+00],\n",
       "          ...,\n",
       "          [-5.2346e-02, -1.2233e+00, -7.8969e-01,  ...,  8.1560e-02,\n",
       "            5.4286e-01,  2.2006e+00],\n",
       "          [ 3.0088e+00,  1.0414e+00,  4.2388e-01,  ...,  1.3594e+00,\n",
       "           -4.9535e-01,  1.1524e+00],\n",
       "          [ 1.9173e+00, -1.4202e+00, -2.2984e-01,  ...,  9.6196e-01,\n",
       "            1.8959e-01,  1.8784e+00]],\n",
       " \n",
       "         [[ 5.2249e-01,  2.4457e+00, -5.5455e-01,  ...,  3.1429e+00,\n",
       "            1.6904e+00,  1.0134e+00],\n",
       "          [ 8.0578e-01, -8.3114e-01,  7.3612e-01,  ...,  4.2523e-01,\n",
       "           -1.1286e-01,  1.7281e+00],\n",
       "          [ 9.0526e-01, -6.8894e-01,  2.0591e+00,  ...,  1.1114e+00,\n",
       "           -7.8108e-01,  2.6827e-01],\n",
       "          ...,\n",
       "          [ 6.4851e-01, -3.1456e-01, -1.6957e+00,  ...,  9.6196e-01,\n",
       "            1.8938e-01,  1.8784e+00],\n",
       "          [-2.2180e-03,  2.7649e-01,  1.3322e+00,  ...,  7.6718e-01,\n",
       "            2.0363e-01,  1.3209e+00],\n",
       "          [ 3.3015e-01, -6.2291e-01,  1.8705e+00,  ...,  7.6718e-01,\n",
       "            2.0373e-01,  1.3209e+00]]], grad_fn=<AddBackward0>))"
      ]
     },
     "execution_count": 78,
     "metadata": {},
     "output_type": "execute_result"
    }
   ],
   "source": [
    "# Embedding은 초기에는 임의의 값을 가지고 훈련이 지속되면서 업데이트 되므로, 해당 함수는 실행할 때 마다 결과가 다르다.\n",
    "mk_encoder_input(['어제 카페 갔었어 거기 사람 많더라', '날이 추우니 감기 조심하세요'])"
   ]
  },
  {
   "attachments": {},
   "cell_type": "markdown",
   "metadata": {},
   "source": [
    "# Positional Encoding from Pytorch Tutorial"
   ]
  },
  {
   "cell_type": "code",
   "execution_count": null,
   "metadata": {},
   "outputs": [],
   "source": [
    "class PositionalEncoding(nn.Module):\n",
    "    def __init__(self, d_model: int, dropout: float = 0.1, max_len: int = 5000):\n",
    "        super().__init__()\n",
    "        self.dropout = nn.Dropout(p=dropout)\n",
    "        position = torch.arange(max_len).unsqueeze(1)\n",
    "        div_term = torch.exp(torch.arange(0, d_model, 2) * (-math.log(10000.0) / d_model))\n",
    "        pe = torch.zeros(max_len, d_model)\n",
    "        pe[:, 0::2] = torch.sin(position * div_term)\n",
    "        pe[:, 1::2] = torch.cos(position * div_term)\n",
    "        self.register_buffer('pe', pe)\n",
    "        \n",
    "    def forward(self, x):\n",
    "        # x.size = (batch, payload, embed or channel)\n",
    "        x = x + self.pe[:x.size(1)].expand(x.size(0), x.size(1), x.size(2))\n",
    "        # x = x + self.pe[:x.size(1)]\n",
    "        \"\"\"\n",
    "        Args:\n",
    "            x: Tensor, shape [seq_len, batch_size, embedding_dim]\n",
    "            batch_first x : Tensor, shape [batch_size, seq_len, embedding_dim]\n",
    "        \"\"\"\n",
    "        return self.dropout(x)"
   ]
  },
  {
   "attachments": {},
   "cell_type": "markdown",
   "metadata": {},
   "source": [
    "* https://pytorch.org/tutorials/beginner/transformer_tutorial.html"
   ]
  }
 ],
 "metadata": {
  "colab": {
   "collapsed_sections": [],
   "provenance": []
  },
  "kernelspec": {
   "display_name": "ws1",
   "language": "python",
   "name": "python3"
  },
  "language_info": {
   "codemirror_mode": {
    "name": "ipython",
    "version": 3
   },
   "file_extension": ".py",
   "mimetype": "text/x-python",
   "name": "python",
   "nbconvert_exporter": "python",
   "pygments_lexer": "ipython3",
   "version": "3.9.13"
  },
  "vscode": {
   "interpreter": {
    "hash": "2856db72fb1e77597a3b14e9c1bb4d2315d342edc16fc9e25c6c6e499688b933"
   }
  },
  "widgets": {
   "application/vnd.jupyter.widget-state+json": {
    "107f5ea48eef4cdea272f56bcdcc94b0": {
     "model_module": "@jupyter-widgets/controls",
     "model_module_version": "1.5.0",
     "model_name": "HTMLModel",
     "state": {
      "_dom_classes": [],
      "_model_module": "@jupyter-widgets/controls",
      "_model_module_version": "1.5.0",
      "_model_name": "HTMLModel",
      "_view_count": null,
      "_view_module": "@jupyter-widgets/controls",
      "_view_module_version": "1.5.0",
      "_view_name": "HTMLView",
      "description": "",
      "description_tooltip": null,
      "layout": "IPY_MODEL_8b2032456c004c41b83b4e803c176930",
      "placeholder": "​",
      "style": "IPY_MODEL_c6f674c47cda40408a1302fa83c6959e",
      "value": "Downloading: 100%"
     }
    },
    "1368903e11b14219b0c3004cc4453b3b": {
     "model_module": "@jupyter-widgets/controls",
     "model_module_version": "1.5.0",
     "model_name": "DescriptionStyleModel",
     "state": {
      "_model_module": "@jupyter-widgets/controls",
      "_model_module_version": "1.5.0",
      "_model_name": "DescriptionStyleModel",
      "_view_count": null,
      "_view_module": "@jupyter-widgets/base",
      "_view_module_version": "1.2.0",
      "_view_name": "StyleView",
      "description_width": ""
     }
    },
    "169bee9ea7cd4a258b8343802cc2b1b8": {
     "model_module": "@jupyter-widgets/controls",
     "model_module_version": "1.5.0",
     "model_name": "DescriptionStyleModel",
     "state": {
      "_model_module": "@jupyter-widgets/controls",
      "_model_module_version": "1.5.0",
      "_model_name": "DescriptionStyleModel",
      "_view_count": null,
      "_view_module": "@jupyter-widgets/base",
      "_view_module_version": "1.2.0",
      "_view_name": "StyleView",
      "description_width": ""
     }
    },
    "17043b387a4b4da5869d1ad1ba0172c2": {
     "model_module": "@jupyter-widgets/base",
     "model_module_version": "1.2.0",
     "model_name": "LayoutModel",
     "state": {
      "_model_module": "@jupyter-widgets/base",
      "_model_module_version": "1.2.0",
      "_model_name": "LayoutModel",
      "_view_count": null,
      "_view_module": "@jupyter-widgets/base",
      "_view_module_version": "1.2.0",
      "_view_name": "LayoutView",
      "align_content": null,
      "align_items": null,
      "align_self": null,
      "border": null,
      "bottom": null,
      "display": null,
      "flex": null,
      "flex_flow": null,
      "grid_area": null,
      "grid_auto_columns": null,
      "grid_auto_flow": null,
      "grid_auto_rows": null,
      "grid_column": null,
      "grid_gap": null,
      "grid_row": null,
      "grid_template_areas": null,
      "grid_template_columns": null,
      "grid_template_rows": null,
      "height": null,
      "justify_content": null,
      "justify_items": null,
      "left": null,
      "margin": null,
      "max_height": null,
      "max_width": null,
      "min_height": null,
      "min_width": null,
      "object_fit": null,
      "object_position": null,
      "order": null,
      "overflow": null,
      "overflow_x": null,
      "overflow_y": null,
      "padding": null,
      "right": null,
      "top": null,
      "visibility": null,
      "width": null
     }
    },
    "3ce001c15fc44da9bcf4f7c9bbc7cb30": {
     "model_module": "@jupyter-widgets/base",
     "model_module_version": "1.2.0",
     "model_name": "LayoutModel",
     "state": {
      "_model_module": "@jupyter-widgets/base",
      "_model_module_version": "1.2.0",
      "_model_name": "LayoutModel",
      "_view_count": null,
      "_view_module": "@jupyter-widgets/base",
      "_view_module_version": "1.2.0",
      "_view_name": "LayoutView",
      "align_content": null,
      "align_items": null,
      "align_self": null,
      "border": null,
      "bottom": null,
      "display": null,
      "flex": null,
      "flex_flow": null,
      "grid_area": null,
      "grid_auto_columns": null,
      "grid_auto_flow": null,
      "grid_auto_rows": null,
      "grid_column": null,
      "grid_gap": null,
      "grid_row": null,
      "grid_template_areas": null,
      "grid_template_columns": null,
      "grid_template_rows": null,
      "height": null,
      "justify_content": null,
      "justify_items": null,
      "left": null,
      "margin": null,
      "max_height": null,
      "max_width": null,
      "min_height": null,
      "min_width": null,
      "object_fit": null,
      "object_position": null,
      "order": null,
      "overflow": null,
      "overflow_x": null,
      "overflow_y": null,
      "padding": null,
      "right": null,
      "top": null,
      "visibility": null,
      "width": null
     }
    },
    "3fba46a0b1a54695b2a46fa52f12a60d": {
     "model_module": "@jupyter-widgets/controls",
     "model_module_version": "1.5.0",
     "model_name": "HBoxModel",
     "state": {
      "_dom_classes": [],
      "_model_module": "@jupyter-widgets/controls",
      "_model_module_version": "1.5.0",
      "_model_name": "HBoxModel",
      "_view_count": null,
      "_view_module": "@jupyter-widgets/controls",
      "_view_module_version": "1.5.0",
      "_view_name": "HBoxView",
      "box_style": "",
      "children": [
       "IPY_MODEL_ec272860426a4ec785f027ffee4cd348",
       "IPY_MODEL_ed65e99b72ed4276bb85244ba30838c0",
       "IPY_MODEL_e0621ad7b5684f70976b774f2b767a6c"
      ],
      "layout": "IPY_MODEL_95a643c6eccc41db81f7ef4c5b75407a"
     }
    },
    "417a1197cedc498a9b5ddbc174ca98c7": {
     "model_module": "@jupyter-widgets/controls",
     "model_module_version": "1.5.0",
     "model_name": "HBoxModel",
     "state": {
      "_dom_classes": [],
      "_model_module": "@jupyter-widgets/controls",
      "_model_module_version": "1.5.0",
      "_model_name": "HBoxModel",
      "_view_count": null,
      "_view_module": "@jupyter-widgets/controls",
      "_view_module_version": "1.5.0",
      "_view_name": "HBoxView",
      "box_style": "",
      "children": [
       "IPY_MODEL_b8fc82524dbf4751b4d8d76b3ea2ee18",
       "IPY_MODEL_51d351b1563847978fc998549fafd297",
       "IPY_MODEL_49a1c7e0f44b4e7fbab9201f091a7925"
      ],
      "layout": "IPY_MODEL_3ce001c15fc44da9bcf4f7c9bbc7cb30"
     }
    },
    "49a1c7e0f44b4e7fbab9201f091a7925": {
     "model_module": "@jupyter-widgets/controls",
     "model_module_version": "1.5.0",
     "model_name": "HTMLModel",
     "state": {
      "_dom_classes": [],
      "_model_module": "@jupyter-widgets/controls",
      "_model_module_version": "1.5.0",
      "_model_name": "HTMLModel",
      "_view_count": null,
      "_view_module": "@jupyter-widgets/controls",
      "_view_module_version": "1.5.0",
      "_view_name": "HTMLView",
      "description": "",
      "description_tooltip": null,
      "layout": "IPY_MODEL_49d5f250417a409c9ff1adcca8fb59f6",
      "placeholder": "​",
      "style": "IPY_MODEL_e64780dfe35d40918e47f8233b21dd35",
      "value": " 619/619 [00:00&lt;00:00, 17.1kB/s]"
     }
    },
    "49d5f250417a409c9ff1adcca8fb59f6": {
     "model_module": "@jupyter-widgets/base",
     "model_module_version": "1.2.0",
     "model_name": "LayoutModel",
     "state": {
      "_model_module": "@jupyter-widgets/base",
      "_model_module_version": "1.2.0",
      "_model_name": "LayoutModel",
      "_view_count": null,
      "_view_module": "@jupyter-widgets/base",
      "_view_module_version": "1.2.0",
      "_view_name": "LayoutView",
      "align_content": null,
      "align_items": null,
      "align_self": null,
      "border": null,
      "bottom": null,
      "display": null,
      "flex": null,
      "flex_flow": null,
      "grid_area": null,
      "grid_auto_columns": null,
      "grid_auto_flow": null,
      "grid_auto_rows": null,
      "grid_column": null,
      "grid_gap": null,
      "grid_row": null,
      "grid_template_areas": null,
      "grid_template_columns": null,
      "grid_template_rows": null,
      "height": null,
      "justify_content": null,
      "justify_items": null,
      "left": null,
      "margin": null,
      "max_height": null,
      "max_width": null,
      "min_height": null,
      "min_width": null,
      "object_fit": null,
      "object_position": null,
      "order": null,
      "overflow": null,
      "overflow_x": null,
      "overflow_y": null,
      "padding": null,
      "right": null,
      "top": null,
      "visibility": null,
      "width": null
     }
    },
    "4d63cbe2d2094b96ae4b139598a6986e": {
     "model_module": "@jupyter-widgets/controls",
     "model_module_version": "1.5.0",
     "model_name": "HBoxModel",
     "state": {
      "_dom_classes": [],
      "_model_module": "@jupyter-widgets/controls",
      "_model_module_version": "1.5.0",
      "_model_name": "HBoxModel",
      "_view_count": null,
      "_view_module": "@jupyter-widgets/controls",
      "_view_module_version": "1.5.0",
      "_view_name": "HBoxView",
      "box_style": "",
      "children": [
       "IPY_MODEL_107f5ea48eef4cdea272f56bcdcc94b0",
       "IPY_MODEL_be01bb4eab4342418cd8e323961a3d1a",
       "IPY_MODEL_f9d135d3d8324815ac497c2c31665273"
      ],
      "layout": "IPY_MODEL_deabbc4582b84ce087f0f1d81bf802a0"
     }
    },
    "51d351b1563847978fc998549fafd297": {
     "model_module": "@jupyter-widgets/controls",
     "model_module_version": "1.5.0",
     "model_name": "FloatProgressModel",
     "state": {
      "_dom_classes": [],
      "_model_module": "@jupyter-widgets/controls",
      "_model_module_version": "1.5.0",
      "_model_name": "FloatProgressModel",
      "_view_count": null,
      "_view_module": "@jupyter-widgets/controls",
      "_view_module_version": "1.5.0",
      "_view_name": "ProgressView",
      "bar_style": "success",
      "description": "",
      "description_tooltip": null,
      "layout": "IPY_MODEL_c1b850a1687e4b88ac17a41817b64b3f",
      "max": 619,
      "min": 0,
      "orientation": "horizontal",
      "style": "IPY_MODEL_e609fd3992d540a5ada876259cf8c615",
      "value": 619
     }
    },
    "546c54aab286453a8a9e493c4da52d9e": {
     "model_module": "@jupyter-widgets/controls",
     "model_module_version": "1.5.0",
     "model_name": "ProgressStyleModel",
     "state": {
      "_model_module": "@jupyter-widgets/controls",
      "_model_module_version": "1.5.0",
      "_model_name": "ProgressStyleModel",
      "_view_count": null,
      "_view_module": "@jupyter-widgets/base",
      "_view_module_version": "1.2.0",
      "_view_name": "StyleView",
      "bar_color": null,
      "description_width": ""
     }
    },
    "66fce8c81a094d79b841464597a2be5a": {
     "model_module": "@jupyter-widgets/controls",
     "model_module_version": "1.5.0",
     "model_name": "DescriptionStyleModel",
     "state": {
      "_model_module": "@jupyter-widgets/controls",
      "_model_module_version": "1.5.0",
      "_model_name": "DescriptionStyleModel",
      "_view_count": null,
      "_view_module": "@jupyter-widgets/base",
      "_view_module_version": "1.2.0",
      "_view_name": "StyleView",
      "description_width": ""
     }
    },
    "87e60d7a95ba487b84e4c0a594aa1aaf": {
     "model_module": "@jupyter-widgets/base",
     "model_module_version": "1.2.0",
     "model_name": "LayoutModel",
     "state": {
      "_model_module": "@jupyter-widgets/base",
      "_model_module_version": "1.2.0",
      "_model_name": "LayoutModel",
      "_view_count": null,
      "_view_module": "@jupyter-widgets/base",
      "_view_module_version": "1.2.0",
      "_view_name": "LayoutView",
      "align_content": null,
      "align_items": null,
      "align_self": null,
      "border": null,
      "bottom": null,
      "display": null,
      "flex": null,
      "flex_flow": null,
      "grid_area": null,
      "grid_auto_columns": null,
      "grid_auto_flow": null,
      "grid_auto_rows": null,
      "grid_column": null,
      "grid_gap": null,
      "grid_row": null,
      "grid_template_areas": null,
      "grid_template_columns": null,
      "grid_template_rows": null,
      "height": null,
      "justify_content": null,
      "justify_items": null,
      "left": null,
      "margin": null,
      "max_height": null,
      "max_width": null,
      "min_height": null,
      "min_width": null,
      "object_fit": null,
      "object_position": null,
      "order": null,
      "overflow": null,
      "overflow_x": null,
      "overflow_y": null,
      "padding": null,
      "right": null,
      "top": null,
      "visibility": null,
      "width": null
     }
    },
    "8b2032456c004c41b83b4e803c176930": {
     "model_module": "@jupyter-widgets/base",
     "model_module_version": "1.2.0",
     "model_name": "LayoutModel",
     "state": {
      "_model_module": "@jupyter-widgets/base",
      "_model_module_version": "1.2.0",
      "_model_name": "LayoutModel",
      "_view_count": null,
      "_view_module": "@jupyter-widgets/base",
      "_view_module_version": "1.2.0",
      "_view_name": "LayoutView",
      "align_content": null,
      "align_items": null,
      "align_self": null,
      "border": null,
      "bottom": null,
      "display": null,
      "flex": null,
      "flex_flow": null,
      "grid_area": null,
      "grid_auto_columns": null,
      "grid_auto_flow": null,
      "grid_auto_rows": null,
      "grid_column": null,
      "grid_gap": null,
      "grid_row": null,
      "grid_template_areas": null,
      "grid_template_columns": null,
      "grid_template_rows": null,
      "height": null,
      "justify_content": null,
      "justify_items": null,
      "left": null,
      "margin": null,
      "max_height": null,
      "max_width": null,
      "min_height": null,
      "min_width": null,
      "object_fit": null,
      "object_position": null,
      "order": null,
      "overflow": null,
      "overflow_x": null,
      "overflow_y": null,
      "padding": null,
      "right": null,
      "top": null,
      "visibility": null,
      "width": null
     }
    },
    "95a643c6eccc41db81f7ef4c5b75407a": {
     "model_module": "@jupyter-widgets/base",
     "model_module_version": "1.2.0",
     "model_name": "LayoutModel",
     "state": {
      "_model_module": "@jupyter-widgets/base",
      "_model_module_version": "1.2.0",
      "_model_name": "LayoutModel",
      "_view_count": null,
      "_view_module": "@jupyter-widgets/base",
      "_view_module_version": "1.2.0",
      "_view_name": "LayoutView",
      "align_content": null,
      "align_items": null,
      "align_self": null,
      "border": null,
      "bottom": null,
      "display": null,
      "flex": null,
      "flex_flow": null,
      "grid_area": null,
      "grid_auto_columns": null,
      "grid_auto_flow": null,
      "grid_auto_rows": null,
      "grid_column": null,
      "grid_gap": null,
      "grid_row": null,
      "grid_template_areas": null,
      "grid_template_columns": null,
      "grid_template_rows": null,
      "height": null,
      "justify_content": null,
      "justify_items": null,
      "left": null,
      "margin": null,
      "max_height": null,
      "max_width": null,
      "min_height": null,
      "min_width": null,
      "object_fit": null,
      "object_position": null,
      "order": null,
      "overflow": null,
      "overflow_x": null,
      "overflow_y": null,
      "padding": null,
      "right": null,
      "top": null,
      "visibility": null,
      "width": null
     }
    },
    "a065d8c8ae0e4a888e5f15bcb6080849": {
     "model_module": "@jupyter-widgets/base",
     "model_module_version": "1.2.0",
     "model_name": "LayoutModel",
     "state": {
      "_model_module": "@jupyter-widgets/base",
      "_model_module_version": "1.2.0",
      "_model_name": "LayoutModel",
      "_view_count": null,
      "_view_module": "@jupyter-widgets/base",
      "_view_module_version": "1.2.0",
      "_view_name": "LayoutView",
      "align_content": null,
      "align_items": null,
      "align_self": null,
      "border": null,
      "bottom": null,
      "display": null,
      "flex": null,
      "flex_flow": null,
      "grid_area": null,
      "grid_auto_columns": null,
      "grid_auto_flow": null,
      "grid_auto_rows": null,
      "grid_column": null,
      "grid_gap": null,
      "grid_row": null,
      "grid_template_areas": null,
      "grid_template_columns": null,
      "grid_template_rows": null,
      "height": null,
      "justify_content": null,
      "justify_items": null,
      "left": null,
      "margin": null,
      "max_height": null,
      "max_width": null,
      "min_height": null,
      "min_width": null,
      "object_fit": null,
      "object_position": null,
      "order": null,
      "overflow": null,
      "overflow_x": null,
      "overflow_y": null,
      "padding": null,
      "right": null,
      "top": null,
      "visibility": null,
      "width": null
     }
    },
    "a21e4c6d47ae4aa38c65f4ed401e019f": {
     "model_module": "@jupyter-widgets/controls",
     "model_module_version": "1.5.0",
     "model_name": "ProgressStyleModel",
     "state": {
      "_model_module": "@jupyter-widgets/controls",
      "_model_module_version": "1.5.0",
      "_model_name": "ProgressStyleModel",
      "_view_count": null,
      "_view_module": "@jupyter-widgets/base",
      "_view_module_version": "1.2.0",
      "_view_name": "StyleView",
      "bar_color": null,
      "description_width": ""
     }
    },
    "a2353a110c8748c28c5ed67317afa6ef": {
     "model_module": "@jupyter-widgets/base",
     "model_module_version": "1.2.0",
     "model_name": "LayoutModel",
     "state": {
      "_model_module": "@jupyter-widgets/base",
      "_model_module_version": "1.2.0",
      "_model_name": "LayoutModel",
      "_view_count": null,
      "_view_module": "@jupyter-widgets/base",
      "_view_module_version": "1.2.0",
      "_view_name": "LayoutView",
      "align_content": null,
      "align_items": null,
      "align_self": null,
      "border": null,
      "bottom": null,
      "display": null,
      "flex": null,
      "flex_flow": null,
      "grid_area": null,
      "grid_auto_columns": null,
      "grid_auto_flow": null,
      "grid_auto_rows": null,
      "grid_column": null,
      "grid_gap": null,
      "grid_row": null,
      "grid_template_areas": null,
      "grid_template_columns": null,
      "grid_template_rows": null,
      "height": null,
      "justify_content": null,
      "justify_items": null,
      "left": null,
      "margin": null,
      "max_height": null,
      "max_width": null,
      "min_height": null,
      "min_width": null,
      "object_fit": null,
      "object_position": null,
      "order": null,
      "overflow": null,
      "overflow_x": null,
      "overflow_y": null,
      "padding": null,
      "right": null,
      "top": null,
      "visibility": null,
      "width": null
     }
    },
    "b3b7a7aef53344658a28cbdf238c2ec2": {
     "model_module": "@jupyter-widgets/controls",
     "model_module_version": "1.5.0",
     "model_name": "DescriptionStyleModel",
     "state": {
      "_model_module": "@jupyter-widgets/controls",
      "_model_module_version": "1.5.0",
      "_model_name": "DescriptionStyleModel",
      "_view_count": null,
      "_view_module": "@jupyter-widgets/base",
      "_view_module_version": "1.2.0",
      "_view_name": "StyleView",
      "description_width": ""
     }
    },
    "b8fc82524dbf4751b4d8d76b3ea2ee18": {
     "model_module": "@jupyter-widgets/controls",
     "model_module_version": "1.5.0",
     "model_name": "HTMLModel",
     "state": {
      "_dom_classes": [],
      "_model_module": "@jupyter-widgets/controls",
      "_model_module_version": "1.5.0",
      "_model_name": "HTMLModel",
      "_view_count": null,
      "_view_module": "@jupyter-widgets/controls",
      "_view_module_version": "1.5.0",
      "_view_name": "HTMLView",
      "description": "",
      "description_tooltip": null,
      "layout": "IPY_MODEL_a065d8c8ae0e4a888e5f15bcb6080849",
      "placeholder": "​",
      "style": "IPY_MODEL_66fce8c81a094d79b841464597a2be5a",
      "value": "Downloading: 100%"
     }
    },
    "be01bb4eab4342418cd8e323961a3d1a": {
     "model_module": "@jupyter-widgets/controls",
     "model_module_version": "1.5.0",
     "model_name": "FloatProgressModel",
     "state": {
      "_dom_classes": [],
      "_model_module": "@jupyter-widgets/controls",
      "_model_module_version": "1.5.0",
      "_model_name": "FloatProgressModel",
      "_view_count": null,
      "_view_module": "@jupyter-widgets/controls",
      "_view_module_version": "1.5.0",
      "_view_name": "ProgressView",
      "bar_style": "success",
      "description": "",
      "description_tooltip": null,
      "layout": "IPY_MODEL_17043b387a4b4da5869d1ad1ba0172c2",
      "max": 249928,
      "min": 0,
      "orientation": "horizontal",
      "style": "IPY_MODEL_a21e4c6d47ae4aa38c65f4ed401e019f",
      "value": 249928
     }
    },
    "c1b850a1687e4b88ac17a41817b64b3f": {
     "model_module": "@jupyter-widgets/base",
     "model_module_version": "1.2.0",
     "model_name": "LayoutModel",
     "state": {
      "_model_module": "@jupyter-widgets/base",
      "_model_module_version": "1.2.0",
      "_model_name": "LayoutModel",
      "_view_count": null,
      "_view_module": "@jupyter-widgets/base",
      "_view_module_version": "1.2.0",
      "_view_name": "LayoutView",
      "align_content": null,
      "align_items": null,
      "align_self": null,
      "border": null,
      "bottom": null,
      "display": null,
      "flex": null,
      "flex_flow": null,
      "grid_area": null,
      "grid_auto_columns": null,
      "grid_auto_flow": null,
      "grid_auto_rows": null,
      "grid_column": null,
      "grid_gap": null,
      "grid_row": null,
      "grid_template_areas": null,
      "grid_template_columns": null,
      "grid_template_rows": null,
      "height": null,
      "justify_content": null,
      "justify_items": null,
      "left": null,
      "margin": null,
      "max_height": null,
      "max_width": null,
      "min_height": null,
      "min_width": null,
      "object_fit": null,
      "object_position": null,
      "order": null,
      "overflow": null,
      "overflow_x": null,
      "overflow_y": null,
      "padding": null,
      "right": null,
      "top": null,
      "visibility": null,
      "width": null
     }
    },
    "c6f674c47cda40408a1302fa83c6959e": {
     "model_module": "@jupyter-widgets/controls",
     "model_module_version": "1.5.0",
     "model_name": "DescriptionStyleModel",
     "state": {
      "_model_module": "@jupyter-widgets/controls",
      "_model_module_version": "1.5.0",
      "_model_name": "DescriptionStyleModel",
      "_view_count": null,
      "_view_module": "@jupyter-widgets/base",
      "_view_module_version": "1.2.0",
      "_view_name": "StyleView",
      "description_width": ""
     }
    },
    "d56a1a005d6f4d5ba9b37b0526ea30c0": {
     "model_module": "@jupyter-widgets/base",
     "model_module_version": "1.2.0",
     "model_name": "LayoutModel",
     "state": {
      "_model_module": "@jupyter-widgets/base",
      "_model_module_version": "1.2.0",
      "_model_name": "LayoutModel",
      "_view_count": null,
      "_view_module": "@jupyter-widgets/base",
      "_view_module_version": "1.2.0",
      "_view_name": "LayoutView",
      "align_content": null,
      "align_items": null,
      "align_self": null,
      "border": null,
      "bottom": null,
      "display": null,
      "flex": null,
      "flex_flow": null,
      "grid_area": null,
      "grid_auto_columns": null,
      "grid_auto_flow": null,
      "grid_auto_rows": null,
      "grid_column": null,
      "grid_gap": null,
      "grid_row": null,
      "grid_template_areas": null,
      "grid_template_columns": null,
      "grid_template_rows": null,
      "height": null,
      "justify_content": null,
      "justify_items": null,
      "left": null,
      "margin": null,
      "max_height": null,
      "max_width": null,
      "min_height": null,
      "min_width": null,
      "object_fit": null,
      "object_position": null,
      "order": null,
      "overflow": null,
      "overflow_x": null,
      "overflow_y": null,
      "padding": null,
      "right": null,
      "top": null,
      "visibility": null,
      "width": null
     }
    },
    "dc5efc8e37fc488e93f11d7abd01ce79": {
     "model_module": "@jupyter-widgets/base",
     "model_module_version": "1.2.0",
     "model_name": "LayoutModel",
     "state": {
      "_model_module": "@jupyter-widgets/base",
      "_model_module_version": "1.2.0",
      "_model_name": "LayoutModel",
      "_view_count": null,
      "_view_module": "@jupyter-widgets/base",
      "_view_module_version": "1.2.0",
      "_view_name": "LayoutView",
      "align_content": null,
      "align_items": null,
      "align_self": null,
      "border": null,
      "bottom": null,
      "display": null,
      "flex": null,
      "flex_flow": null,
      "grid_area": null,
      "grid_auto_columns": null,
      "grid_auto_flow": null,
      "grid_auto_rows": null,
      "grid_column": null,
      "grid_gap": null,
      "grid_row": null,
      "grid_template_areas": null,
      "grid_template_columns": null,
      "grid_template_rows": null,
      "height": null,
      "justify_content": null,
      "justify_items": null,
      "left": null,
      "margin": null,
      "max_height": null,
      "max_width": null,
      "min_height": null,
      "min_width": null,
      "object_fit": null,
      "object_position": null,
      "order": null,
      "overflow": null,
      "overflow_x": null,
      "overflow_y": null,
      "padding": null,
      "right": null,
      "top": null,
      "visibility": null,
      "width": null
     }
    },
    "deabbc4582b84ce087f0f1d81bf802a0": {
     "model_module": "@jupyter-widgets/base",
     "model_module_version": "1.2.0",
     "model_name": "LayoutModel",
     "state": {
      "_model_module": "@jupyter-widgets/base",
      "_model_module_version": "1.2.0",
      "_model_name": "LayoutModel",
      "_view_count": null,
      "_view_module": "@jupyter-widgets/base",
      "_view_module_version": "1.2.0",
      "_view_name": "LayoutView",
      "align_content": null,
      "align_items": null,
      "align_self": null,
      "border": null,
      "bottom": null,
      "display": null,
      "flex": null,
      "flex_flow": null,
      "grid_area": null,
      "grid_auto_columns": null,
      "grid_auto_flow": null,
      "grid_auto_rows": null,
      "grid_column": null,
      "grid_gap": null,
      "grid_row": null,
      "grid_template_areas": null,
      "grid_template_columns": null,
      "grid_template_rows": null,
      "height": null,
      "justify_content": null,
      "justify_items": null,
      "left": null,
      "margin": null,
      "max_height": null,
      "max_width": null,
      "min_height": null,
      "min_width": null,
      "object_fit": null,
      "object_position": null,
      "order": null,
      "overflow": null,
      "overflow_x": null,
      "overflow_y": null,
      "padding": null,
      "right": null,
      "top": null,
      "visibility": null,
      "width": null
     }
    },
    "e0621ad7b5684f70976b774f2b767a6c": {
     "model_module": "@jupyter-widgets/controls",
     "model_module_version": "1.5.0",
     "model_name": "HTMLModel",
     "state": {
      "_dom_classes": [],
      "_model_module": "@jupyter-widgets/controls",
      "_model_module_version": "1.5.0",
      "_model_name": "HTMLModel",
      "_view_count": null,
      "_view_module": "@jupyter-widgets/controls",
      "_view_module_version": "1.5.0",
      "_view_name": "HTMLView",
      "description": "",
      "description_tooltip": null,
      "layout": "IPY_MODEL_a2353a110c8748c28c5ed67317afa6ef",
      "placeholder": "​",
      "style": "IPY_MODEL_169bee9ea7cd4a258b8343802cc2b1b8",
      "value": " 49.0/49.0 [00:00&lt;00:00, 1.17kB/s]"
     }
    },
    "e609fd3992d540a5ada876259cf8c615": {
     "model_module": "@jupyter-widgets/controls",
     "model_module_version": "1.5.0",
     "model_name": "ProgressStyleModel",
     "state": {
      "_model_module": "@jupyter-widgets/controls",
      "_model_module_version": "1.5.0",
      "_model_name": "ProgressStyleModel",
      "_view_count": null,
      "_view_module": "@jupyter-widgets/base",
      "_view_module_version": "1.2.0",
      "_view_name": "StyleView",
      "bar_color": null,
      "description_width": ""
     }
    },
    "e64780dfe35d40918e47f8233b21dd35": {
     "model_module": "@jupyter-widgets/controls",
     "model_module_version": "1.5.0",
     "model_name": "DescriptionStyleModel",
     "state": {
      "_model_module": "@jupyter-widgets/controls",
      "_model_module_version": "1.5.0",
      "_model_name": "DescriptionStyleModel",
      "_view_count": null,
      "_view_module": "@jupyter-widgets/base",
      "_view_module_version": "1.2.0",
      "_view_name": "StyleView",
      "description_width": ""
     }
    },
    "ec272860426a4ec785f027ffee4cd348": {
     "model_module": "@jupyter-widgets/controls",
     "model_module_version": "1.5.0",
     "model_name": "HTMLModel",
     "state": {
      "_dom_classes": [],
      "_model_module": "@jupyter-widgets/controls",
      "_model_module_version": "1.5.0",
      "_model_name": "HTMLModel",
      "_view_count": null,
      "_view_module": "@jupyter-widgets/controls",
      "_view_module_version": "1.5.0",
      "_view_name": "HTMLView",
      "description": "",
      "description_tooltip": null,
      "layout": "IPY_MODEL_d56a1a005d6f4d5ba9b37b0526ea30c0",
      "placeholder": "​",
      "style": "IPY_MODEL_1368903e11b14219b0c3004cc4453b3b",
      "value": "Downloading: 100%"
     }
    },
    "ed65e99b72ed4276bb85244ba30838c0": {
     "model_module": "@jupyter-widgets/controls",
     "model_module_version": "1.5.0",
     "model_name": "FloatProgressModel",
     "state": {
      "_dom_classes": [],
      "_model_module": "@jupyter-widgets/controls",
      "_model_module_version": "1.5.0",
      "_model_name": "FloatProgressModel",
      "_view_count": null,
      "_view_module": "@jupyter-widgets/controls",
      "_view_module_version": "1.5.0",
      "_view_name": "ProgressView",
      "bar_style": "success",
      "description": "",
      "description_tooltip": null,
      "layout": "IPY_MODEL_87e60d7a95ba487b84e4c0a594aa1aaf",
      "max": 49,
      "min": 0,
      "orientation": "horizontal",
      "style": "IPY_MODEL_546c54aab286453a8a9e493c4da52d9e",
      "value": 49
     }
    },
    "f9d135d3d8324815ac497c2c31665273": {
     "model_module": "@jupyter-widgets/controls",
     "model_module_version": "1.5.0",
     "model_name": "HTMLModel",
     "state": {
      "_dom_classes": [],
      "_model_module": "@jupyter-widgets/controls",
      "_model_module_version": "1.5.0",
      "_model_name": "HTMLModel",
      "_view_count": null,
      "_view_module": "@jupyter-widgets/controls",
      "_view_module_version": "1.5.0",
      "_view_name": "HTMLView",
      "description": "",
      "description_tooltip": null,
      "layout": "IPY_MODEL_dc5efc8e37fc488e93f11d7abd01ce79",
      "placeholder": "​",
      "style": "IPY_MODEL_b3b7a7aef53344658a28cbdf238c2ec2",
      "value": " 250k/250k [00:00&lt;00:00, 960kB/s]"
     }
    }
   }
  }
 },
 "nbformat": 4,
 "nbformat_minor": 1
}
